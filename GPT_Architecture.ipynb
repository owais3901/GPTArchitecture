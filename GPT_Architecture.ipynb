{
  "cells": [
    {
      "cell_type": "code",
      "execution_count": 3,
      "metadata": {
        "id": "mxJfIOETytiV"
      },
      "outputs": [],
      "source": [
        "import torch\n",
        "import torch.nn as nn\n",
        "from torch.nn import functional as F\n"
      ]
    },
    {
      "cell_type": "code",
      "execution_count": 49,
      "metadata": {
        "id": "HN-ylRF1KLNe"
      },
      "outputs": [],
      "source": [
        "with open(\"game_of_thrones.txt\") as data:\n",
        "  data = data.read()"
      ]
    },
    {
      "cell_type": "code",
      "execution_count": 50,
      "metadata": {
        "colab": {
          "base_uri": "https://localhost:8080/"
        },
        "id": "h6je1LQTKbRH",
        "outputId": "9b9d3468-33b8-4ba4-9ee4-b31c2f3b9dd8"
      },
      "outputs": [
        {
          "output_type": "stream",
          "name": "stdout",
          "text": [
            "Length of the dataset 1605965\n"
          ]
        }
      ],
      "source": [
        "print(\"Length of the dataset\",len(data))"
      ]
    },
    {
      "cell_type": "code",
      "execution_count": 51,
      "metadata": {
        "colab": {
          "base_uri": "https://localhost:8080/"
        },
        "id": "hh_84EKxKixG",
        "outputId": "40c482fa-7573-464a-9854-4c2993ce4fd2"
      },
      "outputs": [
        {
          "output_type": "stream",
          "name": "stdout",
          "text": [
            "76\n"
          ]
        }
      ],
      "source": [
        "chars = sorted(list(set(data)))\n",
        "vocab_size = len(chars)\n",
        "print(vocab_size)"
      ]
    },
    {
      "cell_type": "code",
      "execution_count": 52,
      "metadata": {
        "colab": {
          "base_uri": "https://localhost:8080/"
        },
        "id": "hsfT8lzERgJY",
        "outputId": "0b053212-b1f8-4686-a495-78fd31a8cf9a"
      },
      "outputs": [
        {
          "output_type": "stream",
          "name": "stdout",
          "text": [
            "{'\\n': 0, ' ': 1, '!': 2, '&': 3, \"'\": 4, '(': 5, ')': 6, ',': 7, '-': 8, '.': 9, '0': 10, '1': 11, '2': 12, '3': 13, '4': 14, '5': 15, '6': 16, '7': 17, '8': 18, '9': 19, ':': 20, ';': 21, '?': 22, 'A': 23, 'B': 24, 'C': 25, 'D': 26, 'E': 27, 'F': 28, 'G': 29, 'H': 30, 'I': 31, 'J': 32, 'K': 33, 'L': 34, 'M': 35, 'N': 36, 'O': 37, 'P': 38, 'Q': 39, 'R': 40, 'S': 41, 'T': 42, 'U': 43, 'V': 44, 'W': 45, 'X': 46, 'Y': 47, '[': 48, ']': 49, 'a': 50, 'b': 51, 'c': 52, 'd': 53, 'e': 54, 'f': 55, 'g': 56, 'h': 57, 'i': 58, 'j': 59, 'k': 60, 'l': 61, 'm': 62, 'n': 63, 'o': 64, 'p': 65, 'q': 66, 'r': 67, 's': 68, 't': 69, 'u': 70, 'v': 71, 'w': 72, 'x': 73, 'y': 74, 'z': 75}\n"
          ]
        }
      ],
      "source": [
        "#mapping\n",
        "\n",
        "str_to_int = {char:i for i,char in enumerate(chars)}\n",
        "int_to_str = {i:char for i,char in enumerate(chars)}\n",
        "\n",
        "print(str_to_int)"
      ]
    },
    {
      "cell_type": "code",
      "execution_count": 53,
      "metadata": {
        "id": "jskalnD5TAa7"
      },
      "outputs": [],
      "source": [
        "encode = lambda string : [str_to_int[char] for char in string]\n",
        "decode = lambda list_int : \"\".join([int_to_str[i] for i in list_int])"
      ]
    },
    {
      "cell_type": "code",
      "execution_count": 54,
      "metadata": {
        "id": "zyv9_1ki9dnv"
      },
      "outputs": [],
      "source": [
        "# Hyper Parameters\n",
        "\n",
        "batch_size  = 64\n",
        "block_size = 32\n",
        "max_iters = 5000\n",
        "eval_intervals = 100\n",
        "eval_iters = 200\n",
        "l_rate = 1e-3\n",
        "device = 'cuda' if torch.cuda.is_available() else 'cpu'\n",
        "n_embed = 64\n",
        "n_heads = 4\n",
        "n_layers = 4\n",
        "dropout = 0.2 # 20% Of the Parameters"
      ]
    },
    {
      "cell_type": "code",
      "execution_count": 55,
      "metadata": {
        "id": "7g390AXD-8y9"
      },
      "outputs": [],
      "source": [
        "data = torch.tensor(encode(data),dtype=torch.long)\n",
        "split_percent = int(len(data)*0.9)\n",
        "train_data = data[:split_percent]\n",
        "val_data  = data[split_percent:]"
      ]
    },
    {
      "cell_type": "code",
      "execution_count": 56,
      "metadata": {
        "id": "pN__58b9_dwm"
      },
      "outputs": [],
      "source": [
        "def get_batches_of_data(split):\n",
        "    # generate a small batch of data of inputs x and targets y\n",
        "    data = train_data if split == 'train' else val_data\n",
        "    ix = torch.randint(len(data) - block_size, (batch_size,))\n",
        "    x = torch.stack([data[i:i+block_size] for i in ix])\n",
        "    y = torch.stack([data[i+1:i+block_size+1] for i in ix])\n",
        "    x, y = x.to(device), y.to(device)\n",
        "    return x, y\n",
        "\n",
        "# print(get_batches_of_data('train'))"
      ]
    },
    {
      "cell_type": "code",
      "execution_count": 57,
      "metadata": {
        "id": "4Rwlv9Q1AObb"
      },
      "outputs": [],
      "source": [
        "@torch.no_grad()\n",
        "def estimate_loss():\n",
        "    out = {}\n",
        "    model.eval()\n",
        "    for split in ['train', 'val']:\n",
        "        losses = torch.zeros(eval_iters)\n",
        "        for k in range(eval_iters):\n",
        "            X, Y = get_batches_of_data(split)\n",
        "            logits, loss = model(X, Y)\n",
        "            losses[k] = loss.item()\n",
        "        out[split] = losses.mean()\n",
        "    model.train()\n",
        "    return out\n"
      ]
    },
    {
      "cell_type": "code",
      "execution_count": 58,
      "metadata": {
        "id": "NSELHZJTF782"
      },
      "outputs": [],
      "source": [
        "class Head(nn.Module):\n",
        "  def __init__(self,head_size):\n",
        "    super().__init__()\n",
        "    self.key = nn.Linear(n_embed,head_size,bias=False)\n",
        "    self.query = nn.Linear(n_embed,head_size,bias=False)\n",
        "    self.value = nn.Linear(n_embed,head_size,bias=False)\n",
        "    self.register_buffer('tril', torch.tril(torch.ones(block_size, block_size)))\n",
        "    self.dropout = nn.Dropout(dropout)\n",
        "  def forward(self,x):\n",
        "    B,T,C = x.shape\n",
        "    k = self.key(x)\n",
        "    q = self.query(x)\n",
        "    wei = q @ k.transpose(-2,-1) * C ** -0.5\n",
        "    wei = wei.masked_fill(self.tril[:T, :T] == 0, float('-inf'))\n",
        "    wei = F.softmax(wei, dim=-1)\n",
        "    wei = self.dropout(wei)\n",
        "    v = self.value(x)\n",
        "    out = wei @ v\n",
        "    return out"
      ]
    },
    {
      "cell_type": "code",
      "execution_count": 59,
      "metadata": {
        "id": "V6fnRLEBIlgC"
      },
      "outputs": [],
      "source": [
        "class MultiHeadAttention(nn.Module):\n",
        "  def __init__(self,num_heads,head_size):\n",
        "    super().__init__()\n",
        "    self.heads = nn.ModuleList([Head(head_size) for _ in range(num_heads)])\n",
        "    self.proj  = nn.Linear(n_embed,n_embed)\n",
        "    self.dropout = nn.Dropout(dropout)\n",
        "  def forward(self,x):\n",
        "    out = torch.cat([h(x) for h in self.heads], dim = -1)\n",
        "    out = self.dropout(self.proj(out))\n",
        "    return out"
      ]
    },
    {
      "cell_type": "code",
      "execution_count": 60,
      "metadata": {
        "id": "TTbKRpzqJiu_"
      },
      "outputs": [],
      "source": [
        "class FeedForward(nn.Module):\n",
        "  def __init__(self,n_embed):\n",
        "    super().__init__()\n",
        "    self.net = nn.Sequential(\n",
        "        nn.Linear(n_embed,4*n_embed),\n",
        "        nn.ReLU(),\n",
        "        nn.Linear(4*n_embed,n_embed),\n",
        "        nn.Dropout(dropout)\n",
        "    )\n",
        "  def forward(self,x):\n",
        "    return self.net(x)\n"
      ]
    },
    {
      "cell_type": "code",
      "execution_count": 61,
      "metadata": {
        "id": "EXoX4Idkr9Kt"
      },
      "outputs": [],
      "source": [
        "class Block(nn.Module):\n",
        "  def __init__(self,n_embed,n_heads):\n",
        "    super().__init__()\n",
        "    head_size = n_embed // n_heads\n",
        "    self.sa = MultiHeadAttention(n_heads,head_size)\n",
        "    self.ffwd = FeedForward(n_embed)\n",
        "    self.lm1 = nn.LayerNorm(n_embed)\n",
        "    self.lm2 = nn.LayerNorm(n_embed)\n",
        "\n",
        "  def forward(self,x):\n",
        "    x = x + self.sa(self.lm1(x))\n",
        "    x = x + self.ffwd(self.lm2(x))\n",
        "    return x\n",
        "\n"
      ]
    },
    {
      "cell_type": "code",
      "execution_count": 62,
      "metadata": {
        "id": "h7EFKiKLvuH-"
      },
      "outputs": [],
      "source": [
        "class GPTModel(nn.Module):\n",
        "  def __init__(self):\n",
        "    super().__init__()\n",
        "    self.token_embeddings = nn.Embedding(vocab_size,n_embed)\n",
        "    self.postional_encodings = nn.Embedding(block_size,n_embed)\n",
        "    self.attention_blocks = nn.Sequential(\n",
        "        *[Block(n_embed,n_heads=n_heads) for _ in range(n_layers)]\n",
        "    )\n",
        "    self.lm = nn.LayerNorm(n_embed)\n",
        "    self.lm_head = nn.Linear(n_embed,vocab_size)\n",
        "\n",
        "  def forward(self,idx,targets=None):\n",
        "    B,T = idx.shape\n",
        "    tok_embed = self.token_embeddings(idx)\n",
        "    pos_embed = self.postional_encodings(torch.arange(T,device=device))\n",
        "    x = tok_embed + pos_embed\n",
        "    x = self.attention_blocks(x)\n",
        "    x = self.lm(x)\n",
        "    logits  = self.lm_head(x)\n",
        "\n",
        "    if targets is None:\n",
        "      loss = None\n",
        "    else:\n",
        "      B,T,C = logits.shape\n",
        "      logits = logits.view(B*T,C)\n",
        "      targets = targets.view(B*T)\n",
        "      loss  = F.cross_entropy(logits,targets)\n",
        "    return logits,loss\n",
        "\n",
        "  def generate(self, idx, max_new_tokens):\n",
        "    # idx is (B, T) array of indices in the current context\n",
        "    for _ in range(max_new_tokens):\n",
        "        # crop idx to the last block_size tokens\n",
        "        idx_cond = idx[:, -block_size:]\n",
        "        # get the predictions\n",
        "        logits, loss = self(idx_cond)\n",
        "        # focus only on the last time step\n",
        "        logits = logits[:, -1, :] # becomes (B, C)\n",
        "        # apply softmax to get probabilities\n",
        "        probs = F.softmax(logits, dim=-1) # (B, C)\n",
        "        # sample from the distribution\n",
        "        idx_next = torch.multinomial(probs, num_samples=1) # (B, 1)\n",
        "        # append sampled index to the running sequence\n",
        "        idx = torch.cat((idx, idx_next), dim=1) # (B, T+1)\n",
        "    return idx\n",
        "\n"
      ]
    },
    {
      "cell_type": "code",
      "execution_count": 63,
      "metadata": {
        "colab": {
          "base_uri": "https://localhost:8080/"
        },
        "id": "fOw2yU6Lx9lF",
        "outputId": "dc6ef075-5cad-4948-b7cc-691083c07eec"
      },
      "outputs": [
        {
          "output_type": "stream",
          "name": "stdout",
          "text": [
            "0.211148 M parameters\n",
            "step 0: train loss 4.4859, val loss 4.4811\n",
            "step 100: train loss 2.5076, val loss 2.5809\n",
            "step 200: train loss 2.3509, val loss 2.4452\n",
            "step 300: train loss 2.2244, val loss 2.3428\n",
            "step 400: train loss 2.1284, val loss 2.2421\n",
            "step 500: train loss 2.0612, val loss 2.1763\n",
            "step 600: train loss 2.0019, val loss 2.1278\n",
            "step 700: train loss 1.9564, val loss 2.0830\n",
            "step 800: train loss 1.9161, val loss 2.0501\n",
            "step 900: train loss 1.8851, val loss 2.0114\n",
            "step 1000: train loss 1.8644, val loss 1.9880\n",
            "step 1100: train loss 1.8331, val loss 1.9715\n",
            "step 1200: train loss 1.8155, val loss 1.9389\n",
            "step 1300: train loss 1.7952, val loss 1.9176\n",
            "step 1400: train loss 1.7723, val loss 1.9062\n",
            "step 1500: train loss 1.7654, val loss 1.8968\n",
            "step 1600: train loss 1.7536, val loss 1.8953\n",
            "step 1700: train loss 1.7415, val loss 1.8792\n",
            "step 1800: train loss 1.7237, val loss 1.8517\n",
            "step 1900: train loss 1.7132, val loss 1.8458\n",
            "step 2000: train loss 1.7094, val loss 1.8470\n",
            "step 2100: train loss 1.6985, val loss 1.8218\n",
            "step 2200: train loss 1.6871, val loss 1.8175\n",
            "step 2300: train loss 1.6805, val loss 1.8248\n",
            "step 2400: train loss 1.6732, val loss 1.8013\n",
            "step 2500: train loss 1.6648, val loss 1.8070\n",
            "step 2600: train loss 1.6606, val loss 1.8059\n",
            "step 2700: train loss 1.6543, val loss 1.7900\n",
            "step 2800: train loss 1.6413, val loss 1.7857\n",
            "step 2900: train loss 1.6378, val loss 1.7736\n",
            "step 3000: train loss 1.6378, val loss 1.7685\n",
            "step 3100: train loss 1.6410, val loss 1.7706\n",
            "step 3200: train loss 1.6254, val loss 1.7668\n",
            "step 3300: train loss 1.6209, val loss 1.7588\n",
            "step 3400: train loss 1.6171, val loss 1.7497\n",
            "step 3500: train loss 1.6170, val loss 1.7487\n",
            "step 3600: train loss 1.6074, val loss 1.7526\n",
            "step 3700: train loss 1.6038, val loss 1.7400\n",
            "step 3800: train loss 1.6042, val loss 1.7454\n",
            "step 3900: train loss 1.5951, val loss 1.7304\n",
            "step 4000: train loss 1.5934, val loss 1.7310\n",
            "step 4100: train loss 1.5888, val loss 1.7340\n",
            "step 4200: train loss 1.5868, val loss 1.7267\n",
            "step 4300: train loss 1.5841, val loss 1.6990\n",
            "step 4400: train loss 1.5794, val loss 1.7001\n",
            "step 4500: train loss 1.5819, val loss 1.7148\n",
            "step 4600: train loss 1.5808, val loss 1.7128\n",
            "step 4700: train loss 1.5747, val loss 1.7016\n",
            "step 4800: train loss 1.5675, val loss 1.7015\n",
            "step 4900: train loss 1.5702, val loss 1.7009\n",
            "step 4999: train loss 1.5685, val loss 1.6967\n"
          ]
        }
      ],
      "source": [
        "model = GPTModel()\n",
        "m = model.to(device)\n",
        "# print the number of parameters in the model\n",
        "print(sum(p.numel() for p in m.parameters())/1e6, 'M parameters')\n",
        "\n",
        "# create a PyTorch optimizer\n",
        "optimizer = torch.optim.AdamW(model.parameters(), lr=l_rate)\n",
        "\n",
        "for iter in range(max_iters):\n",
        "\n",
        "    # every once in a while evaluate the loss on train and val sets\n",
        "    if iter % eval_intervals == 0 or iter == max_iters - 1:\n",
        "        losses = estimate_loss()\n",
        "        print(f\"step {iter}: train loss {losses['train']:.4f}, val loss {losses['val']:.4f}\")\n",
        "\n",
        "    # sample a batch of data\n",
        "    xb, yb = get_batches_of_data(\"train\")\n",
        "\n",
        "    # evaluate the loss\n",
        "    logits, loss = model(xb, yb)\n",
        "    optimizer.zero_grad(set_to_none=True)\n",
        "    loss.backward()\n",
        "    optimizer.step()\n",
        "\n",
        "\n"
      ]
    },
    {
      "cell_type": "code",
      "source": [
        "# generate from the model\n",
        "context = torch.zeros((1, 1), dtype=torch.long, device=device)\n",
        "print(decode(m.generate(context, max_new_tokens=2000)[0].tolist()))"
      ],
      "metadata": {
        "id": "5yPMecrFLdsW",
        "colab": {
          "base_uri": "https://localhost:8080/"
        },
        "outputId": "15829985-7d27-4f10-d8d3-8734dd5d1cee"
      },
      "execution_count": 66,
      "outputs": [
        {
          "output_type": "stream",
          "name": "stdout",
          "text": [
            "\n",
            "Dank or Robet, he looked the said its said the Khallivery back was his mosted. Io him nd khalf-said. Ur should?  He heaped bacain. The madked it red a folloss andead.  She whilve quilled as if you with a ring, If mouther, larm to golarge.  I've teppt its whettere Wintord, Lys,  Lord's He black, childres, yeld said. As, my strequeho basoff, her restly westepted daugh as of the shink as them.\n",
            "\n",
            "Liadlefight he had it every have she remace ass fer here. This day.\n",
            "\n",
            "Greather is said, the stroggod, but ide maboy likes. \n",
            "\n",
            " Bring it way a lammen and listed. \n",
            " Tome frail honoto morned, aboutieth out mon mastered and utone only Rober as and us werless of her, guild armed him, and sturned. She looked hurt blace of the pat sking.  The was mulling as the eards her bied wells to prise, and I was never old she toon agot shaimeded spodering acrose all rusted Tyrio telren arm day?  a and taogin the dirlword neat alfer the leat.  Lannister Robert this words,  Master Ear Gnoth. The black of there young be very an and said sleaptes an to them on the a. \n",
            "\n",
            " Petherr Out at he carring thou somones? Tyrya. Nor hode said rush hear a war dance urried berrise the was rolecth.  Robert outs a was do her, and Robert man, Tyrion, khis lood. You rerings senough of the Edded through. She wan tches ared. Went Clower tno dark the hair enough that than king could. I dandiever not and me hall feel whilf leed owind, the may saids and and standoint could the reast cusopted to awl and the DuDicked his stille the moon mace, and here, and Joust coing, my speak to trees poing the womes. The ammuled up the truedice twered whan of the fatherrun her paled the caimites beating of Kingrey. Lann he daw sisted tay a weard eyes winder the old irstant, the paled back head You? \n",
            "\n",
            " Beven she great you and hampt I angual his face?  I with thered sultly. Even reyjow were badeb ger sone, yevery Robb roken safe one the Arrya eyes rode alhes went from the wonding your fall ake lord, but dow  Bein arow. He doing doubt ded sidde\n"
          ]
        }
      ]
    },
    {
      "cell_type": "code",
      "source": [
        "MODEL_SAVE_PATH = \"gpt_game_of_thrones.pth\"\n",
        "torch.save(model.state_dict(), MODEL_SAVE_PATH)\n"
      ],
      "metadata": {
        "id": "VNodUkS672oB"
      },
      "execution_count": 65,
      "outputs": []
    }
  ],
  "metadata": {
    "colab": {
      "provenance": []
    },
    "kernelspec": {
      "display_name": "Python 3",
      "name": "python3"
    },
    "language_info": {
      "name": "python"
    }
  },
  "nbformat": 4,
  "nbformat_minor": 0
}